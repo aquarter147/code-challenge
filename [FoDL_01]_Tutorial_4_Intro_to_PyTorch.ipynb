{
  "nbformat": 4,
  "nbformat_minor": 0,
  "metadata": {
    "colab": {
      "provenance": [],
      "include_colab_link": true
    },
    "kernelspec": {
      "name": "python3",
      "display_name": "Python 3"
    },
    "language_info": {
      "name": "python"
    },
    "accelerator": "GPU",
    "gpuClass": "standard"
  },
  "cells": [
    {
      "cell_type": "markdown",
      "metadata": {
        "id": "view-in-github",
        "colab_type": "text"
      },
      "source": [
        "<a href=\"https://colab.research.google.com/github/aquarter147/code-challenge/blob/main/%5BFoDL_01%5D_Tutorial_4_Intro_to_PyTorch.ipynb\" target=\"_parent\"><img src=\"https://colab.research.google.com/assets/colab-badge.svg\" alt=\"Open In Colab\"/></a>"
      ]
    },
    {
      "cell_type": "markdown",
      "source": [
        "This tutorial is a modified version of [Stanford's CS231n](http://cs231n.stanford.edu/) course materials."
      ],
      "metadata": {
        "id": "quMDopTDDtev"
      }
    },
    {
      "cell_type": "markdown",
      "source": [
        "# Introduction to PyTorch\n",
        "\n",
        "You've written a lot of code during this course to implement a whole host of neural network functionality (forward pass, backward pass, loss computation, regularization and optimization techniques) from scratch.\n",
        "\n",
        "We're going to leave behind your beautiful codebase and instead migrate to one of the most popular deep learning frameworks: PyTorch."
      ],
      "metadata": {
        "id": "WXkuXfuRxKRh"
      }
    },
    {
      "cell_type": "markdown",
      "source": [
        "## Why do we use deep learning frameworks?\n",
        "\n",
        "* Our code will now run on GPUs! This will allow our models to train much faster. When using a framework like PyTorch or TensorFlow you can harness the power of the GPU for your own custom neural network architectures.\n",
        "* In this class, we want you to be ready to use PyTorch for your project so you can experiment more efficiently than if you were writing every feature you want to use by hand. \n",
        "* We want you to stand on the shoulders of giants! PyTorch are the excellent framework that will make your lives a lot easier, and now that you understand their guts, you are free to use them :) \n",
        "* Finally, we want you to be exposed to the sort of deep learning code you might run into in academia or industry.\n",
        "\n",
        "## What is PyTorch?\n",
        "\n",
        "PyTorch is a system for executing dynamic computational graphs over Tensor objects that behave similarly as numpy ndarray. It comes with a powerful automatic differentiation engine that removes the need for manual back-propagation. \n",
        "\n",
        "## How do I learn PyTorch?\n",
        "\n",
        "Justin Johnson from Stanford University made an excellent [tutorial](https://github.com/jcjohnson/pytorch-examples) for PyTorch. \n",
        "\n",
        "You can also find the detailed [API doc](http://pytorch.org/docs/stable/index.html) here. If you have other questions that are not addressed by the API docs, the [PyTorch forum](https://discuss.pytorch.org/) is a much better place to ask than StackOverflow."
      ],
      "metadata": {
        "id": "H6GPIe6kxQNq"
      }
    },
    {
      "cell_type": "markdown",
      "source": [
        "# Table of Contents\n",
        "\n",
        "This tutorial has 4 parts. You will learn PyTorch on **three different levels of abstraction**, which will help you understand it better. \n",
        "\n",
        "1. Part I, Preparation: we will use CIFAR-10 dataset.\n",
        "2. Part II, Barebones PyTorch: **Abstraction level 1**, we will work directly with the lowest-level PyTorch Tensors. \n",
        "3. Part III, PyTorch Module API: **Abstraction level 2**, we will use `nn.Module` to define arbitrary neural network architecture. \n",
        "4. Part IV, PyTorch Sequential API: **Abstraction level 3**, we will use `nn.Sequential` to define a linear feed-forward network very conveniently. \n",
        "\n",
        "Here is a table of comparison:\n",
        "\n",
        "| API           | Flexibility | Convenience |\n",
        "|---------------|-------------|-------------|\n",
        "| Barebone      | High        | Low         |\n",
        "| `nn.Module`     | High        | Medium      |\n",
        "| `nn.Sequential` | Low         | High        |"
      ],
      "metadata": {
        "id": "aLqyIitvyRyz"
      }
    },
    {
      "cell_type": "markdown",
      "source": [
        "# GPU\n",
        "\n",
        "You can manually switch to a GPU device on Colab by clicking `Runtime -> Change runtime type` and selecting `GPU` under `Hardware Accelerator`. You should do this before running the following cells to import packages, since the kernel gets restarted upon switching runtimes."
      ],
      "metadata": {
        "id": "dv4HCfgNyboY"
      }
    },
    {
      "cell_type": "code",
      "source": [
        "import torch\n",
        "import torch.nn as nn\n",
        "import torch.optim as optim\n",
        "from torch.utils.data import DataLoader\n",
        "from torch.utils.data import sampler\n",
        "\n",
        "import torchvision.datasets as dset\n",
        "import torchvision.transforms as T\n",
        "\n",
        "import numpy as np\n",
        "\n",
        "USE_GPU = True\n",
        "dtype = torch.float32 # We will be using float throughout this tutorial.\n",
        "\n",
        "if USE_GPU and torch.cuda.is_available():\n",
        "    device = torch.device('cuda')\n",
        "else:\n",
        "    device = torch.device('cpu')\n",
        "\n",
        "# Constant to control how frequently we print train loss.\n",
        "print_every = 100\n",
        "print('using device:', device)"
      ],
      "metadata": {
        "colab": {
          "base_uri": "https://localhost:8080/"
        },
        "id": "oLXLxeiSxNQR",
        "outputId": "e0cc56c6-1567-4e93-b52a-b8f258f4bf91"
      },
      "execution_count": null,
      "outputs": [
        {
          "output_type": "stream",
          "name": "stdout",
          "text": [
            "using device: cuda\n"
          ]
        }
      ]
    },
    {
      "cell_type": "markdown",
      "source": [
        "# Part I. Preparation\n",
        "\n",
        "Now, let's load the CIFAR-10 dataset. This might take a couple minutes the first time you do it, but the files should stay cached after that.\n",
        "\n",
        "In previous parts of the assignment we had to write our own code to download the CIFAR-10 dataset, preprocess it, and iterate through it in minibatches; PyTorch provides convenient tools to automate this process for us."
      ],
      "metadata": {
        "id": "IrPtpnqeyizP"
      }
    },
    {
      "cell_type": "code",
      "source": [
        "# This downloads the CIFAR-10 dataset if it doesn't already exist.\n",
        "\n",
        "!wget http://www.cs.toronto.edu/~kriz/cifar-10-python.tar.gz -O cifar-10-python.tar.gz\n",
        "!tar -xzvf cifar-10-python.tar.gz\n",
        "!rm cifar-10-python.tar.gz"
      ],
      "metadata": {
        "colab": {
          "base_uri": "https://localhost:8080/"
        },
        "id": "4_cUD3lxyc9q",
        "outputId": "cb72cbb7-463c-4a8b-8786-ba953bc3e325"
      },
      "execution_count": null,
      "outputs": [
        {
          "output_type": "stream",
          "name": "stdout",
          "text": [
            "--2022-12-04 11:27:19--  http://www.cs.toronto.edu/~kriz/cifar-10-python.tar.gz\n",
            "Resolving www.cs.toronto.edu (www.cs.toronto.edu)... 128.100.3.30\n",
            "Connecting to www.cs.toronto.edu (www.cs.toronto.edu)|128.100.3.30|:80... connected.\n",
            "HTTP request sent, awaiting response... 200 OK\n",
            "Length: 170498071 (163M) [application/x-gzip]\n",
            "Saving to: ‘cifar-10-python.tar.gz’\n",
            "\n",
            "cifar-10-python.tar 100%[===================>] 162.60M  12.7MB/s    in 15s     \n",
            "\n",
            "2022-12-04 11:27:34 (11.2 MB/s) - ‘cifar-10-python.tar.gz’ saved [170498071/170498071]\n",
            "\n",
            "cifar-10-batches-py/\n",
            "cifar-10-batches-py/data_batch_4\n",
            "cifar-10-batches-py/readme.html\n",
            "cifar-10-batches-py/test_batch\n",
            "cifar-10-batches-py/data_batch_3\n",
            "cifar-10-batches-py/batches.meta\n",
            "cifar-10-batches-py/data_batch_2\n",
            "cifar-10-batches-py/data_batch_5\n",
            "cifar-10-batches-py/data_batch_1\n"
          ]
        }
      ]
    },
    {
      "cell_type": "code",
      "source": [
        "import torch\n",
        "import torch.nn as nn\n",
        "import torch.optim as optim\n",
        "from torch.utils.data import DataLoader\n",
        "from torch.utils.data import sampler\n",
        "\n",
        "import torchvision.datasets as dset\n",
        "import torchvision.transforms as T\n",
        "\n",
        "import numpy as np\n",
        "\n",
        "USE_GPU = True\n",
        "dtype = torch.float32 # We will be using float throughout this tutorial.\n",
        "\n",
        "if USE_GPU and torch.cuda.is_available():\n",
        "    device = torch.device('cuda')\n",
        "else:\n",
        "    device = torch.device('cpu')\n",
        "\n",
        "# Constant to control how frequently we print train loss.\n",
        "print_every = 100\n",
        "print('using device:', device)"
      ],
      "metadata": {
        "colab": {
          "base_uri": "https://localhost:8080/"
        },
        "id": "fnYHxwU9y8C3",
        "outputId": "136e1774-9fb4-43ca-c4ae-6d91e70ff97b"
      },
      "execution_count": null,
      "outputs": [
        {
          "output_type": "stream",
          "name": "stdout",
          "text": [
            "using device: cuda\n"
          ]
        }
      ]
    },
    {
      "cell_type": "code",
      "source": [
        "NUM_TRAIN = 49000\n",
        "\n",
        "# The torchvision.transforms package provides tools for preprocessing data\n",
        "# and for performing data augmentation; here we set up a transform to\n",
        "# preprocess the data by subtracting the mean RGB value and dividing by the\n",
        "# standard deviation of each RGB value; we've hardcoded the mean and std.\n",
        "transform = T.Compose([\n",
        "                T.ToTensor(),\n",
        "                T.Normalize((0.4914, 0.4822, 0.4465), (0.2023, 0.1994, 0.2010))\n",
        "            ])\n",
        "\n",
        "# We set up a Dataset object for each split (train / val / test); Datasets load\n",
        "# training examples one at a time, so we wrap each Dataset in a DataLoader which\n",
        "# iterates through the Dataset and forms minibatches. We divide the CIFAR-10\n",
        "# training set into train and val sets by passing a Sampler object to the\n",
        "# DataLoader telling how it should sample from the underlying Dataset.\n",
        "cifar10_train = dset.CIFAR10('./cs231n/datasets', train=True, download=True,\n",
        "                             transform=transform)\n",
        "loader_train = DataLoader(cifar10_train, batch_size=64, \n",
        "                          sampler=sampler.SubsetRandomSampler(range(NUM_TRAIN)))\n",
        "\n",
        "cifar10_val = dset.CIFAR10('./cs231n/datasets', train=True, download=True,\n",
        "                           transform=transform)\n",
        "loader_val = DataLoader(cifar10_val, batch_size=64, \n",
        "                        sampler=sampler.SubsetRandomSampler(range(NUM_TRAIN, 50000)))\n",
        "\n",
        "cifar10_test = dset.CIFAR10('./cs231n/datasets', train=False, download=True, \n",
        "                            transform=transform)\n",
        "loader_test = DataLoader(cifar10_test, batch_size=64)"
      ],
      "metadata": {
        "colab": {
          "base_uri": "https://localhost:8080/"
        },
        "id": "BhjRWQUoyogA",
        "outputId": "57f98e91-3f59-44ea-b3fc-e5fdad82e380"
      },
      "execution_count": null,
      "outputs": [
        {
          "output_type": "stream",
          "name": "stdout",
          "text": [
            "Files already downloaded and verified\n",
            "Files already downloaded and verified\n",
            "Files already downloaded and verified\n"
          ]
        }
      ]
    },
    {
      "cell_type": "markdown",
      "source": [
        "# Part II. Barebones PyTorch\n",
        "\n",
        "PyTorch ships with high-level APIs to help us define model architectures conveniently, which we will cover in Part II of this tutorial. In this section, we will start with the barebone PyTorch elements to understand the autograd engine better. After this exercise, you will come to appreciate the high-level model API more.\n",
        "\n",
        "We will start with a simple fully-connected ReLU network with two hidden layers and no biases for CIFAR classification. \n",
        "This implementation computes the forward pass using operations on PyTorch Tensors, and uses PyTorch autograd to compute gradients. It is important that you understand every line, because you will write a harder version after the example.\n",
        "\n",
        "When we create a PyTorch Tensor with `requires_grad=True`, then operations involving that Tensor will not just compute values; they will also build up a computational graph in the background, allowing us to easily backpropagate through the graph to compute gradients of some Tensors with respect to a downstream loss. Concretely if x is a Tensor with `x.requires_grad == True` then after backpropagation `x.grad` will be another Tensor holding the gradient of x with respect to the scalar loss at the end."
      ],
      "metadata": {
        "id": "PHl7r72aytRj"
      }
    },
    {
      "cell_type": "markdown",
      "source": [
        "### PyTorch Tensors: Flatten Function\n",
        "A PyTorch Tensor is conceptionally similar to a numpy array: it is an n-dimensional grid of numbers, and like numpy PyTorch provides many functions to efficiently operate on Tensors. As a simple example, we provide a `flatten` function below which reshapes image data for use in a fully-connected neural network.\n",
        "\n",
        "Recall that image data is typically stored in a Tensor of shape N x C x H x W, where:\n",
        "\n",
        "* N is the number of datapoints\n",
        "* C is the number of channels\n",
        "* H is the height of the intermediate feature map in pixels\n",
        "* W is the height of the intermediate feature map in pixels\n",
        "\n",
        "This is the right way to represent the data when we are doing something like a 2D convolution, that needs spatial understanding of where the intermediate features are relative to each other. When we use fully connected affine layers to process the image, however, we want each datapoint to be represented by a single vector -- it's no longer useful to segregate the different channels, rows, and columns of the data. So, we use a \"flatten\" operation to collapse the `C x H x W` values per representation into a single long vector. The flatten function below first reads in the N, C, H, and W values from a given batch of data, and then returns a \"view\" of that data. \"View\" is analogous to numpy's \"reshape\" method: it reshapes x's dimensions to be N x ??, where ?? is allowed to be anything (in this case, it will be C x H x W, but we don't need to specify that explicitly). "
      ],
      "metadata": {
        "id": "7lEpijAEyxPi"
      }
    },
    {
      "cell_type": "code",
      "source": [
        "def flatten(x):\n",
        "    N = x.shape[0] # read in N, C, H, W\n",
        "    return x.view(N, -1)  # \"flatten\" the C * H * W values into a single vector per image\n",
        "\n",
        "def test_flatten():\n",
        "    x = torch.arange(12).view(2, 1, 3, 2)\n",
        "    print('Before flattening: ', x)\n",
        "    print('After flattening: ', flatten(x))\n",
        "\n",
        "test_flatten()"
      ],
      "metadata": {
        "colab": {
          "base_uri": "https://localhost:8080/"
        },
        "id": "-o5RMSsGyo4t",
        "outputId": "8929dbe9-c4dd-4c0a-fbc1-1ca43c34c57a"
      },
      "execution_count": null,
      "outputs": [
        {
          "output_type": "stream",
          "name": "stdout",
          "text": [
            "Before flattening:  tensor([[[[ 0,  1],\n",
            "          [ 2,  3],\n",
            "          [ 4,  5]]],\n",
            "\n",
            "\n",
            "        [[[ 6,  7],\n",
            "          [ 8,  9],\n",
            "          [10, 11]]]])\n",
            "After flattening:  tensor([[ 0,  1,  2,  3,  4,  5],\n",
            "        [ 6,  7,  8,  9, 10, 11]])\n"
          ]
        }
      ]
    },
    {
      "cell_type": "markdown",
      "source": [
        "### Barebones PyTorch: Two-Layer Network\n",
        "\n",
        "Here we define a function `two_layer_fc` which performs the forward pass of a two-layer fully-connected ReLU network on a batch of image data. After defining the forward pass we check that it doesn't crash and that it produces outputs of the right shape by running zeros through the network.\n",
        "\n",
        "You don't have to write any code here, but it's important that you read and understand the implementation."
      ],
      "metadata": {
        "id": "hggjs8YHzX9m"
      }
    },
    {
      "cell_type": "code",
      "source": [
        "import torch.nn.functional as F  # useful stateless functions\n",
        "\n",
        "def two_layer_fc(x, params):\n",
        "    \"\"\"\n",
        "    A fully-connected neural networks; the architecture is:\n",
        "    NN is fully connected -> ReLU -> fully connected layer.\n",
        "    Note that this function only defines the forward pass; \n",
        "    PyTorch will take care of the backward pass for us.\n",
        "    \n",
        "    The input to the network will be a minibatch of data, of shape\n",
        "    (N, d1, ..., dM) where d1 * ... * dM = D. The hidden layer will have H units,\n",
        "    and the output layer will produce scores for C classes.\n",
        "    \n",
        "    Inputs:\n",
        "    - x: A PyTorch Tensor of shape (N, d1, ..., dM) giving a minibatch of\n",
        "      input data.\n",
        "    - params: A list [w1, w2] of PyTorch Tensors giving weights for the network;\n",
        "      w1 has shape (D, H) and w2 has shape (H, C).\n",
        "    \n",
        "    Returns:\n",
        "    - scores: A PyTorch Tensor of shape (N, C) giving classification scores for\n",
        "      the input data x.\n",
        "    \"\"\"\n",
        "    # first we flatten the image\n",
        "    x = flatten(x)  # shape: [batch_size, C x H x W]\n",
        "    \n",
        "    w1, w2 = params\n",
        "    \n",
        "    # Forward pass: compute predicted y using operations on Tensors. Since w1 and\n",
        "    # w2 have requires_grad=True, operations involving these Tensors will cause\n",
        "    # PyTorch to build a computational graph, allowing automatic computation of\n",
        "    # gradients. Since we are no longer implementing the backward pass by hand we\n",
        "    # don't need to keep references to intermediate values.\n",
        "    # you can also use `.clamp(min=0)`, equivalent to F.relu()\n",
        "    x = F.relu(x.mm(w1))\n",
        "    x = x.mm(w2)\n",
        "    return x\n",
        "    \n",
        "\n",
        "def two_layer_fc_test():\n",
        "    hidden_layer_size = 42\n",
        "    x = torch.zeros((64, 50), dtype=dtype)  # minibatch size 64, feature dimension 50\n",
        "    w1 = torch.zeros((50, hidden_layer_size), dtype=dtype)\n",
        "    w2 = torch.zeros((hidden_layer_size, 10), dtype=dtype)\n",
        "    scores = two_layer_fc(x, [w1, w2])\n",
        "    print(scores.size())  # you should see [64, 10]\n",
        "\n",
        "two_layer_fc_test()"
      ],
      "metadata": {
        "colab": {
          "base_uri": "https://localhost:8080/"
        },
        "id": "9RPuVqXvzV1L",
        "outputId": "552bb373-893f-4f55-831c-0f78e2cd8e8f"
      },
      "execution_count": null,
      "outputs": [
        {
          "output_type": "stream",
          "name": "stdout",
          "text": [
            "torch.Size([64, 10])\n"
          ]
        }
      ]
    },
    {
      "cell_type": "markdown",
      "source": [
        "### Barebones PyTorch: Initialization\n",
        "Let's write a couple utility methods to initialize the weight matrices for our models.\n",
        "\n",
        "- `random_weight(shape)` initializes a weight tensor with the Kaiming normalization method.\n",
        "- `zero_weight(shape)` initializes a weight tensor with all zeros. Useful for instantiating bias parameters.\n",
        "\n",
        "The `random_weight` function uses the Kaiming normal initialization method, described in:\n",
        "\n",
        "He et al, *Delving Deep into Rectifiers: Surpassing Human-Level Performance on ImageNet Classification*, ICCV 2015, https://arxiv.org/abs/1502.01852"
      ],
      "metadata": {
        "id": "kn-pDAJxzepS"
      }
    },
    {
      "cell_type": "code",
      "source": [
        "def random_weight(shape):\n",
        "    \"\"\"\n",
        "    Create random Tensors for weights; setting requires_grad=True means that we\n",
        "    want to compute gradients for these Tensors during the backward pass.\n",
        "    We use Kaiming normalization: sqrt(2 / fan_in)\n",
        "    \"\"\"\n",
        "    if len(shape) == 2:  # FC weight\n",
        "        fan_in = shape[0]\n",
        "    else:\n",
        "        fan_in = np.prod(shape[1:]) # conv weight [out_channel, in_channel, kH, kW]\n",
        "    # randn is standard normal distribution generator. \n",
        "    w = torch.randn(shape, device=device, dtype=dtype) * np.sqrt(2. / fan_in)\n",
        "    w.requires_grad = True\n",
        "    return w\n",
        "\n",
        "def zero_weight(shape):\n",
        "    return torch.zeros(shape, device=device, dtype=dtype, requires_grad=True)\n",
        "\n",
        "# create a weight of shape [3 x 5]\n",
        "# you should see the type `torch.cuda.FloatTensor` if you use GPU. \n",
        "# Otherwise it should be `torch.FloatTensor`\n",
        "random_weight((3, 5))"
      ],
      "metadata": {
        "colab": {
          "base_uri": "https://localhost:8080/"
        },
        "id": "lxf2-zWR0Ztf",
        "outputId": "3a5222d8-26ef-470b-d558-c07834f645be"
      },
      "execution_count": null,
      "outputs": [
        {
          "output_type": "execute_result",
          "data": {
            "text/plain": [
              "tensor([[-0.3221,  0.7764, -0.1733,  0.5248, -0.2956],\n",
              "        [ 1.1599,  1.2013, -0.5625,  0.7158, -0.0770],\n",
              "        [-1.3630,  0.8275,  0.2647,  0.3261,  0.0151]], device='cuda:0',\n",
              "       requires_grad=True)"
            ]
          },
          "metadata": {},
          "execution_count": 7
        }
      ]
    },
    {
      "cell_type": "markdown",
      "source": [
        "### Barebones PyTorch: Check Accuracy\n",
        "When training the model we will use the following function to check the accuracy of our model on the training or validation sets.\n",
        "\n",
        "When checking accuracy we don't need to compute any gradients; as a result we don't need PyTorch to build a computational graph for us when we compute scores. To prevent a graph from being built we scope our computation under a `torch.no_grad()` context manager."
      ],
      "metadata": {
        "id": "5SGfq4Gq0hpp"
      }
    },
    {
      "cell_type": "code",
      "source": [
        "def check_accuracy_part2(loader, model_fn, params):\n",
        "    \"\"\"\n",
        "    Check the accuracy of a classification model.\n",
        "    \n",
        "    Inputs:\n",
        "    - loader: A DataLoader for the data split we want to check\n",
        "    - model_fn: A function that performs the forward pass of the model,\n",
        "      with the signature scores = model_fn(x, params)\n",
        "    - params: List of PyTorch Tensors giving parameters of the model\n",
        "    \n",
        "    Returns: Nothing, but prints the accuracy of the model\n",
        "    \"\"\"\n",
        "    split = 'val' if loader.dataset.train else 'test'\n",
        "    print('Checking accuracy on the %s set' % split)\n",
        "    num_correct, num_samples = 0, 0\n",
        "    with torch.no_grad():\n",
        "        for x, y in loader:\n",
        "            x = x.to(device=device, dtype=dtype)  # move to device, e.g. GPU\n",
        "            y = y.to(device=device, dtype=torch.int64)\n",
        "            scores = model_fn(x, params)\n",
        "            _, preds = scores.max(1)\n",
        "            num_correct += (preds == y).sum()\n",
        "            num_samples += preds.size(0)\n",
        "        acc = float(num_correct) / num_samples\n",
        "        print('Got %d / %d correct (%.2f%%)' % (num_correct, num_samples, 100 * acc))"
      ],
      "metadata": {
        "id": "Os4Tzgnb0uCH"
      },
      "execution_count": null,
      "outputs": []
    },
    {
      "cell_type": "markdown",
      "source": [
        "### BareBones PyTorch: Training Loop\n",
        "We can now set up a basic training loop to train our network. We will train the model using stochastic gradient descent without momentum. We will use `torch.functional.cross_entropy` to compute the loss; you can [read about it here](http://pytorch.org/docs/stable/nn.html#cross-entropy).\n",
        "\n",
        "The training loop takes as input the neural network function, a list of initialized parameters (`[w1, w2]` in our example), and learning rate."
      ],
      "metadata": {
        "id": "W77iVp9f0wam"
      }
    },
    {
      "cell_type": "code",
      "source": [
        "def train_part2(model_fn, params, learning_rate):\n",
        "    \"\"\"\n",
        "    Train a model on CIFAR-10.\n",
        "    \n",
        "    Inputs:\n",
        "    - model_fn: A Python function that performs the forward pass of the model.\n",
        "      It should have the signature scores = model_fn(x, params) where x is a\n",
        "      PyTorch Tensor of image data, params is a list of PyTorch Tensors giving\n",
        "      model weights, and scores is a PyTorch Tensor of shape (N, C) giving\n",
        "      scores for the elements in x.\n",
        "    - params: List of PyTorch Tensors giving weights for the model\n",
        "    - learning_rate: Python scalar giving the learning rate to use for SGD\n",
        "    \n",
        "    Returns: Nothing\n",
        "    \"\"\"\n",
        "    for t, (x, y) in enumerate(loader_train):\n",
        "        # Move the data to the proper device (GPU or CPU)\n",
        "        x = x.to(device=device, dtype=dtype)\n",
        "        y = y.to(device=device, dtype=torch.long)\n",
        "\n",
        "        # Forward pass: compute scores and loss\n",
        "        scores = model_fn(x, params)\n",
        "        loss = F.cross_entropy(scores, y)\n",
        "\n",
        "        # Backward pass: PyTorch figures out which Tensors in the computational\n",
        "        # graph has requires_grad=True and uses backpropagation to compute the\n",
        "        # gradient of the loss with respect to these Tensors, and stores the\n",
        "        # gradients in the .grad attribute of each Tensor.\n",
        "        loss.backward()\n",
        "\n",
        "        # Update parameters. We don't want to backpropagate through the\n",
        "        # parameter updates, so we scope the updates under a torch.no_grad()\n",
        "        # context manager to prevent a computational graph from being built.\n",
        "        with torch.no_grad():\n",
        "            for w in params:\n",
        "                w -= learning_rate * w.grad\n",
        "\n",
        "                # Manually zero the gradients after running the backward pass\n",
        "                w.grad.zero_()\n",
        "\n",
        "        if t % print_every == 0:\n",
        "            print('Iteration %d, loss = %.4f' % (t, loss.item()))\n",
        "            check_accuracy_part2(loader_val, model_fn, params)\n",
        "            print()"
      ],
      "metadata": {
        "id": "z8GKF8X3za7s"
      },
      "execution_count": null,
      "outputs": []
    },
    {
      "cell_type": "markdown",
      "source": [
        "### BareBones PyTorch: Train a Two-Layer Network\n",
        "Now we are ready to run the training loop. We need to explicitly allocate tensors for the fully connected weights, `w1` and `w2`. \n",
        "\n",
        "Each minibatch of CIFAR has 64 examples, so the tensor shape is `[64, 3, 32, 32]`. \n",
        "\n",
        "After flattening, `x` shape should be `[64, 3 * 32 * 32]`. This will be the size of the first dimension of `w1`. \n",
        "The second dimension of `w1` is the hidden layer size, which will also be the first dimension of `w2`. \n",
        "\n",
        "Finally, the output of the network is a 10-dimensional vector that represents the probability distribution over 10 classes. \n",
        "\n",
        "You don't need to tune any hyperparameters but you should see accuracies above 40% after training for one epoch."
      ],
      "metadata": {
        "id": "YACtoYW-0zy0"
      }
    },
    {
      "cell_type": "code",
      "source": [
        "hidden_layer_size = 4000\n",
        "learning_rate = 1e-2\n",
        "\n",
        "w1 = random_weight((3 * 32 * 32, hidden_layer_size))\n",
        "w2 = random_weight((hidden_layer_size, 10))\n",
        "\n",
        "train_part2(two_layer_fc, [w1, w2], learning_rate)"
      ],
      "metadata": {
        "colab": {
          "base_uri": "https://localhost:8080/"
        },
        "id": "0frwtoTI0STv",
        "outputId": "e8166267-cb8d-4647-9c55-7618f2c8a7c5"
      },
      "execution_count": null,
      "outputs": [
        {
          "output_type": "stream",
          "name": "stdout",
          "text": [
            "Iteration 0, loss = 4.0197\n",
            "Checking accuracy on the val set\n",
            "Got 151 / 1000 correct (15.10%)\n",
            "\n",
            "Iteration 100, loss = 1.9963\n",
            "Checking accuracy on the val set\n",
            "Got 365 / 1000 correct (36.50%)\n",
            "\n",
            "Iteration 200, loss = 2.1779\n",
            "Checking accuracy on the val set\n",
            "Got 335 / 1000 correct (33.50%)\n",
            "\n",
            "Iteration 300, loss = 1.8305\n",
            "Checking accuracy on the val set\n",
            "Got 361 / 1000 correct (36.10%)\n",
            "\n",
            "Iteration 400, loss = 1.6447\n",
            "Checking accuracy on the val set\n",
            "Got 419 / 1000 correct (41.90%)\n",
            "\n",
            "Iteration 500, loss = 1.4607\n",
            "Checking accuracy on the val set\n",
            "Got 396 / 1000 correct (39.60%)\n",
            "\n",
            "Iteration 600, loss = 1.6121\n",
            "Checking accuracy on the val set\n",
            "Got 444 / 1000 correct (44.40%)\n",
            "\n",
            "Iteration 700, loss = 1.6755\n",
            "Checking accuracy on the val set\n",
            "Got 453 / 1000 correct (45.30%)\n",
            "\n"
          ]
        }
      ]
    },
    {
      "cell_type": "markdown",
      "source": [
        "# Part III. PyTorch Module API\n",
        "\n",
        "Barebone PyTorch requires that we track all the parameter tensors by hand. This is fine for small networks with a few tensors, but it would be extremely inconvenient and error-prone to track tens or hundreds of tensors in larger networks.\n",
        "\n",
        "PyTorch provides the `nn.Module` API for you to define arbitrary network architectures, while tracking every learnable parameters for you. In Part II, we implemented SGD ourselves. PyTorch also provides the `torch.optim` package that implements all the common optimizers, such as RMSProp, Adagrad, and Adam. You can refer to the [doc](http://pytorch.org/docs/master/optim.html) for the exact specifications of each optimizer.\n",
        "\n",
        "To use the Module API, follow the steps below:\n",
        "\n",
        "1. Subclass `nn.Module`. Give your network class an intuitive name like `TwoLayerFC`. \n",
        "\n",
        "2. In the constructor `__init__()`, define all the layers you need as class attributes. Layer objects like `nn.Linear` and `nn.Conv2d` are themselves `nn.Module` subclasses and contain learnable parameters, so that you don't have to instantiate the raw tensors yourself. `nn.Module` will track these internal parameters for you. Refer to the [doc](http://pytorch.org/docs/master/nn.html) to learn more about the dozens of builtin layers. **Warning**: don't forget to call the `super().__init__()` first!\n",
        "\n",
        "3. In the `forward()` method, define the *connectivity* of your network. You should use the attributes defined in `__init__` as function calls that take tensor as input and output the \"transformed\" tensor. Do *not* create any new layers with learnable parameters in `forward()`! All of them must be declared upfront in `__init__`. \n",
        "\n",
        "After you define your Module subclass, you can instantiate it as an object and call it just like the NN forward function in part II.\n",
        "\n",
        "### Module API: Two-Layer Network\n",
        "Here is a concrete example of a 2-layer fully connected network:"
      ],
      "metadata": {
        "id": "gK0u7pKt05gA"
      }
    },
    {
      "cell_type": "code",
      "source": [
        "class TwoLayerFC(nn.Module):\n",
        "    def __init__(self, input_size, hidden_size, num_classes):\n",
        "        super().__init__()\n",
        "        # assign layer objects to class attributes\n",
        "        self.fc1 = nn.Linear(input_size, hidden_size)\n",
        "        # nn.init package contains convenient initialization methods\n",
        "        # http://pytorch.org/docs/master/nn.html#torch-nn-init \n",
        "        nn.init.kaiming_normal_(self.fc1.weight)\n",
        "        self.fc2 = nn.Linear(hidden_size, num_classes)\n",
        "        nn.init.kaiming_normal_(self.fc2.weight)\n",
        "    \n",
        "    def forward(self, x):\n",
        "        # forward always defines connectivity\n",
        "        x = flatten(x)\n",
        "        scores = self.fc2(F.relu(self.fc1(x)))\n",
        "        return scores\n",
        "\n",
        "def test_TwoLayerFC():\n",
        "    input_size = 50\n",
        "    x = torch.zeros((64, input_size), dtype=dtype)  # minibatch size 64, feature dimension 50\n",
        "    model = TwoLayerFC(input_size, 42, 10)\n",
        "    scores = model(x)\n",
        "    print(scores.size())  # you should see [64, 10]\n",
        "test_TwoLayerFC()"
      ],
      "metadata": {
        "colab": {
          "base_uri": "https://localhost:8080/"
        },
        "id": "tcIFs3j201mb",
        "outputId": "8b45d0e3-56b4-4643-92c2-e633bce1e8e1"
      },
      "execution_count": null,
      "outputs": [
        {
          "output_type": "stream",
          "name": "stdout",
          "text": [
            "torch.Size([64, 10])\n"
          ]
        }
      ]
    },
    {
      "cell_type": "markdown",
      "source": [
        "### Module API: Check Accuracy\n",
        "Given the validation or test set, we can check the classification accuracy of a neural network. \n",
        "\n",
        "This version is slightly different from the one in part II. You don't manually pass in the parameters anymore."
      ],
      "metadata": {
        "id": "VD0FuYYL1Zo0"
      }
    },
    {
      "cell_type": "code",
      "source": [
        "def check_accuracy_part34(loader, model):\n",
        "    if loader.dataset.train:\n",
        "        print('Checking accuracy on validation set')\n",
        "    else:\n",
        "        print('Checking accuracy on test set')   \n",
        "    num_correct = 0\n",
        "    num_samples = 0\n",
        "    model.eval()  # set model to evaluation mode\n",
        "    with torch.no_grad():\n",
        "        for x, y in loader:\n",
        "            x = x.to(device=device, dtype=dtype)  # move to device, e.g. GPU\n",
        "            y = y.to(device=device, dtype=torch.long)\n",
        "            scores = model(x)\n",
        "            _, preds = scores.max(1)\n",
        "            num_correct += (preds == y).sum()\n",
        "            num_samples += preds.size(0)\n",
        "        acc = float(num_correct) / num_samples\n",
        "        print('Got %d / %d correct (%.2f)' % (num_correct, num_samples, 100 * acc))"
      ],
      "metadata": {
        "id": "x62nFhgM1YHC"
      },
      "execution_count": null,
      "outputs": []
    },
    {
      "cell_type": "markdown",
      "source": [
        "### Module API: Training Loop\n",
        "We also use a slightly different training loop. Rather than updating the values of the weights ourselves, we use an Optimizer object from the `torch.optim` package, which abstract the notion of an optimization algorithm and provides implementations of most of the algorithms commonly used to optimize neural networks."
      ],
      "metadata": {
        "id": "GO_QYx0D1clY"
      }
    },
    {
      "cell_type": "code",
      "source": [
        "def train_part34(model, optimizer, epochs=1):\n",
        "    \"\"\"\n",
        "    Train a model on CIFAR-10 using the PyTorch Module API.\n",
        "    \n",
        "    Inputs:\n",
        "    - model: A PyTorch Module giving the model to train.\n",
        "    - optimizer: An Optimizer object we will use to train the model\n",
        "    - epochs: (Optional) A Python integer giving the number of epochs to train for\n",
        "    \n",
        "    Returns: Nothing, but prints model accuracies during training.\n",
        "    \"\"\"\n",
        "    model = model.to(device=device)  # move the model parameters to CPU/GPU\n",
        "    for e in range(epochs):\n",
        "        for t, (x, y) in enumerate(loader_train):\n",
        "            model.train()  # put model to training mode\n",
        "            x = x.to(device=device, dtype=dtype)  # move to device, e.g. GPU\n",
        "            y = y.to(device=device, dtype=torch.long)\n",
        "\n",
        "            scores = model(x)\n",
        "            loss = F.cross_entropy(scores, y)\n",
        "\n",
        "            # Zero out all of the gradients for the variables which the optimizer\n",
        "            # will update.\n",
        "            optimizer.zero_grad()\n",
        "\n",
        "            # This is the backwards pass: compute the gradient of the loss with\n",
        "            # respect to each  parameter of the model.\n",
        "            loss.backward()\n",
        "\n",
        "            # Actually update the parameters of the model using the gradients\n",
        "            # computed by the backwards pass.\n",
        "            optimizer.step()\n",
        "\n",
        "            if t % print_every == 0:\n",
        "                print('Iteration %d, loss = %.4f' % (t, loss.item()))\n",
        "                check_accuracy_part34(loader_val, model)\n",
        "                print()"
      ],
      "metadata": {
        "id": "_O4E6dsg1bSG"
      },
      "execution_count": null,
      "outputs": []
    },
    {
      "cell_type": "markdown",
      "source": [
        "### Module API: Train a Two-Layer Network\n",
        "Now we are ready to run the training loop. In contrast to part II, we don't explicitly allocate parameter tensors anymore.\n",
        "\n",
        "Simply pass the input size, hidden layer size, and number of classes (i.e. output size) to the constructor of `TwoLayerFC`. \n",
        "\n",
        "You also need to define an optimizer that tracks all the learnable parameters inside `TwoLayerFC`.\n",
        "\n",
        "You don't need to tune any hyperparameters, but you should see model accuracies above 40% after training for one epoch."
      ],
      "metadata": {
        "id": "Fy-aQkZz1ida"
      }
    },
    {
      "cell_type": "code",
      "source": [
        "hidden_layer_size = 4000\n",
        "learning_rate = 1e-2\n",
        "model = TwoLayerFC(3 * 32 * 32, hidden_layer_size, 10)\n",
        "optimizer = optim.SGD(model.parameters(), lr=learning_rate)\n",
        "\n",
        "train_part34(model, optimizer)"
      ],
      "metadata": {
        "colab": {
          "base_uri": "https://localhost:8080/"
        },
        "id": "UyO-YxFY1eXk",
        "outputId": "092e2904-cf43-4c14-dc17-0693349b250f"
      },
      "execution_count": null,
      "outputs": [
        {
          "output_type": "stream",
          "name": "stdout",
          "text": [
            "Iteration 0, loss = 3.8028\n",
            "Checking accuracy on validation set\n",
            "Got 157 / 1000 correct (15.70)\n",
            "\n",
            "Iteration 100, loss = 2.0957\n",
            "Checking accuracy on validation set\n",
            "Got 332 / 1000 correct (33.20)\n",
            "\n",
            "Iteration 200, loss = 2.6240\n",
            "Checking accuracy on validation set\n",
            "Got 328 / 1000 correct (32.80)\n",
            "\n",
            "Iteration 300, loss = 2.3435\n",
            "Checking accuracy on validation set\n",
            "Got 378 / 1000 correct (37.80)\n",
            "\n",
            "Iteration 400, loss = 1.9217\n",
            "Checking accuracy on validation set\n",
            "Got 397 / 1000 correct (39.70)\n",
            "\n",
            "Iteration 500, loss = 1.8231\n",
            "Checking accuracy on validation set\n",
            "Got 396 / 1000 correct (39.60)\n",
            "\n",
            "Iteration 600, loss = 1.5482\n",
            "Checking accuracy on validation set\n",
            "Got 436 / 1000 correct (43.60)\n",
            "\n",
            "Iteration 700, loss = 1.9518\n",
            "Checking accuracy on validation set\n",
            "Got 442 / 1000 correct (44.20)\n",
            "\n"
          ]
        }
      ]
    },
    {
      "cell_type": "markdown",
      "source": [
        "# Part IV. PyTorch Sequential API\n",
        "\n",
        "Part III introduced the PyTorch Module API, which allows you to define arbitrary learnable layers and their connectivity. \n",
        "\n",
        "For simple models like a stack of feed forward layers, you still need to go through 3 steps: subclass `nn.Module`, assign layers to class attributes in `__init__`, and call each layer one by one in `forward()`. Is there a more convenient way? \n",
        "\n",
        "Fortunately, PyTorch provides a container Module called `nn.Sequential`, which merges the above steps into one. It is not as flexible as `nn.Module`, because you cannot specify more complex topology than a feed-forward stack, but it's good enough for many use cases.\n",
        "\n",
        "### Sequential API: Two-Layer Network\n",
        "Let's see how to rewrite our two-layer fully connected network example with `nn.Sequential`, and train it using the training loop defined above.\n",
        "\n",
        "Again, you don't need to tune any hyperparameters here, but you shoud achieve above 40% accuracy after one epoch of training."
      ],
      "metadata": {
        "id": "XANU9QVe1q5i"
      }
    },
    {
      "cell_type": "code",
      "source": [
        "# We need to wrap `flatten` function in a module in order to stack it\n",
        "# in nn.Sequential\n",
        "class Flatten(nn.Module):\n",
        "    def forward(self, x):\n",
        "        return flatten(x)\n",
        "\n",
        "hidden_layer_size = 4000\n",
        "learning_rate = 1e-2\n",
        "\n",
        "model = nn.Sequential(\n",
        "    Flatten(),\n",
        "    nn.Linear(3 * 32 * 32, hidden_layer_size),\n",
        "    nn.ReLU(),\n",
        "    nn.Linear(hidden_layer_size, 10),\n",
        ")\n",
        "\n",
        "optimizer = optim.SGD(model.parameters(), lr=learning_rate,\n",
        "                     momentum=0.9, nesterov=True)\n",
        "\n",
        "train_part34(model, optimizer)"
      ],
      "metadata": {
        "colab": {
          "base_uri": "https://localhost:8080/"
        },
        "id": "M0fw-i3F1ohV",
        "outputId": "9f2c455d-9dd4-4eda-c85a-1b4eb504ca5e"
      },
      "execution_count": null,
      "outputs": [
        {
          "output_type": "stream",
          "name": "stdout",
          "text": [
            "Iteration 0, loss = 2.3058\n",
            "Checking accuracy on validation set\n",
            "Got 164 / 1000 correct (16.40)\n",
            "\n",
            "Iteration 100, loss = 1.9634\n",
            "Checking accuracy on validation set\n",
            "Got 396 / 1000 correct (39.60)\n",
            "\n",
            "Iteration 200, loss = 1.7686\n",
            "Checking accuracy on validation set\n",
            "Got 419 / 1000 correct (41.90)\n",
            "\n",
            "Iteration 300, loss = 1.6522\n",
            "Checking accuracy on validation set\n",
            "Got 423 / 1000 correct (42.30)\n",
            "\n",
            "Iteration 400, loss = 1.7320\n",
            "Checking accuracy on validation set\n",
            "Got 434 / 1000 correct (43.40)\n",
            "\n",
            "Iteration 500, loss = 1.7072\n",
            "Checking accuracy on validation set\n",
            "Got 456 / 1000 correct (45.60)\n",
            "\n",
            "Iteration 600, loss = 1.8031\n",
            "Checking accuracy on validation set\n",
            "Got 460 / 1000 correct (46.00)\n",
            "\n",
            "Iteration 700, loss = 1.8566\n",
            "Checking accuracy on validation set\n",
            "Got 427 / 1000 correct (42.70)\n",
            "\n"
          ]
        }
      ]
    },
    {
      "cell_type": "markdown",
      "source": [
        "### Have fun and happy training! "
      ],
      "metadata": {
        "id": "nhSUZllR2qJQ"
      }
    }
  ]
}